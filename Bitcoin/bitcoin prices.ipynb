{
 "cells": [
  {
   "cell_type": "code",
   "execution_count": 2,
   "metadata": {},
   "outputs": [],
   "source": [
    "import math\n",
    "import json\n",
    "import requests\n",
    "import itertools\n",
    "import numpy as np\n",
    "import time\n",
    "from datetime import datetime, timedelta\n",
    "import textblob\n",
    "from textblob import TextBlob\n",
    "import pandas as pd "
   ]
  },
  {
   "cell_type": "code",
   "execution_count": 3,
   "metadata": {},
   "outputs": [],
   "source": [
    "def properdatetimestamp(year,month,date):\n",
    "    yearval = str(year)\n",
    "    monthval = str(month)\n",
    "    dayval = str(date)\n",
    "    if len(monthval) < 2:\n",
    "        monthval = \"0\" + monthval\n",
    "    if len(dayval) < 2:\n",
    "        dayval = \"0\" + dayval\n",
    "    dateval = dayval + monthval + yearval\n",
    "    return dateval"
   ]
  },
  {
   "cell_type": "code",
   "execution_count": 6,
   "metadata": {},
   "outputs": [],
   "source": [
    "bitcoindata = open('bitcoin.csv', 'w')\n",
    "bitcoindata.write(\"date\" +  ',' + \"price\") \n",
    "bitcoindata.write('\\n')\n",
    "url = \"https://api.coindesk.com/v1/bpi/historical/close.json?start=2018-03-15&end=2019-03-15\"\n",
    "response = requests.get(url)\n",
    "if(response.status_code == 200):\n",
    "    bitcoinval = json.loads(response.text)\n",
    "    bitcoindic = bitcoinval['bpi']\n",
    "    for date, price in bitcoindic.items(): \n",
    "        year,month,day = date.split(\"-\");\n",
    "        final_date  = properdatetimestamp(year,month,day);\n",
    "        bitcoindata.write(final_date +  ',' + str(price)) \n",
    "        bitcoindata.write('\\n')\n",
    "    bitcoindata.close()\n",
    "else:\n",
    "    print(\"Error status: \"+str(response.status_code))"
   ]
  },
  {
   "cell_type": "code",
   "execution_count": 1,
   "metadata": {},
   "outputs": [],
   "source": [
    "import urllib.request\n",
    "from bs4 import BeautifulSoup\n",
    "import pandas as pd\n",
    "from datetime import datetime"
   ]
  },
  {
   "cell_type": "code",
   "execution_count": 2,
   "metadata": {},
   "outputs": [],
   "source": [
    "url = 'https://coinmarketcap.com/currencies/bitcoin/historical-data/?start=20180315&end=20190315'\n",
    "page = urllib.request.urlopen(url)\n",
    "soup = BeautifulSoup(page, 'html.parser')\n",
    "\n",
    "priceDiv = soup.find('div', attrs={'class':'table-responsive'})\n",
    "rows = priceDiv.find_all('tr')\n",
    "\n",
    "data = []\n",
    "i = 0;\n",
    "\n",
    "for row in rows:\n",
    "    tmp = []\n",
    "    tds = row.findChildren()\n",
    "\n",
    "    for td in tds:\n",
    "        tmp.append(td.text)\n",
    "\n",
    "    if(i > 0):\n",
    "        tmp[0] = tmp[0].replace(',','')\n",
    "        tmp[5] = tmp[5].replace(',','')\n",
    "        tmp[6] = tmp[6].replace(',','')\n",
    "        data.append({'date':datetime.strptime(tmp[0], '%b %d %Y'),\n",
    "                     'open':float(tmp[1]),\n",
    "                     'high':float(tmp[2]),\n",
    "                     'low':float(tmp[3]),\n",
    "                     'close':float(tmp[4]),\n",
    "                     'volume':float(tmp[5]),\n",
    "                     'mcap':float(tmp[6])})\n",
    "\n",
    "    i = i + 1;\n",
    "\n",
    "df = pd.DataFrame(data)"
   ]
  },
  {
   "cell_type": "code",
   "execution_count": 3,
   "metadata": {},
   "outputs": [
    {
     "data": {
      "text/html": [
       "<div>\n",
       "<style scoped>\n",
       "    .dataframe tbody tr th:only-of-type {\n",
       "        vertical-align: middle;\n",
       "    }\n",
       "\n",
       "    .dataframe tbody tr th {\n",
       "        vertical-align: top;\n",
       "    }\n",
       "\n",
       "    .dataframe thead th {\n",
       "        text-align: right;\n",
       "    }\n",
       "</style>\n",
       "<table border=\"1\" class=\"dataframe\">\n",
       "  <thead>\n",
       "    <tr style=\"text-align: right;\">\n",
       "      <th></th>\n",
       "      <th>close</th>\n",
       "      <th>date</th>\n",
       "      <th>high</th>\n",
       "      <th>low</th>\n",
       "      <th>mcap</th>\n",
       "      <th>open</th>\n",
       "      <th>volume</th>\n",
       "    </tr>\n",
       "  </thead>\n",
       "  <tbody>\n",
       "    <tr>\n",
       "      <th>0</th>\n",
       "      <td>3960.91</td>\n",
       "      <td>2019-03-15</td>\n",
       "      <td>3968.54</td>\n",
       "      <td>3914.02</td>\n",
       "      <td>6.967500e+10</td>\n",
       "      <td>3926.66</td>\n",
       "      <td>9.394211e+09</td>\n",
       "    </tr>\n",
       "    <tr>\n",
       "      <th>1</th>\n",
       "      <td>3924.37</td>\n",
       "      <td>2019-03-14</td>\n",
       "      <td>3946.50</td>\n",
       "      <td>3901.30</td>\n",
       "      <td>6.902470e+10</td>\n",
       "      <td>3905.58</td>\n",
       "      <td>1.048079e+10</td>\n",
       "    </tr>\n",
       "    <tr>\n",
       "      <th>2</th>\n",
       "      <td>3906.72</td>\n",
       "      <td>2019-03-13</td>\n",
       "      <td>3926.60</td>\n",
       "      <td>3891.90</td>\n",
       "      <td>6.870670e+10</td>\n",
       "      <td>3913.05</td>\n",
       "      <td>9.469185e+09</td>\n",
       "    </tr>\n",
       "    <tr>\n",
       "      <th>3</th>\n",
       "      <td>3909.16</td>\n",
       "      <td>2019-03-12</td>\n",
       "      <td>3926.89</td>\n",
       "      <td>3863.56</td>\n",
       "      <td>6.874300e+10</td>\n",
       "      <td>3903.76</td>\n",
       "      <td>9.809887e+09</td>\n",
       "    </tr>\n",
       "    <tr>\n",
       "      <th>4</th>\n",
       "      <td>3905.23</td>\n",
       "      <td>2019-03-11</td>\n",
       "      <td>3966.38</td>\n",
       "      <td>3889.24</td>\n",
       "      <td>6.866693e+10</td>\n",
       "      <td>3953.74</td>\n",
       "      <td>1.012590e+10</td>\n",
       "    </tr>\n",
       "  </tbody>\n",
       "</table>\n",
       "</div>"
      ],
      "text/plain": [
       "     close       date     high      low          mcap     open        volume\n",
       "0  3960.91 2019-03-15  3968.54  3914.02  6.967500e+10  3926.66  9.394211e+09\n",
       "1  3924.37 2019-03-14  3946.50  3901.30  6.902470e+10  3905.58  1.048079e+10\n",
       "2  3906.72 2019-03-13  3926.60  3891.90  6.870670e+10  3913.05  9.469185e+09\n",
       "3  3909.16 2019-03-12  3926.89  3863.56  6.874300e+10  3903.76  9.809887e+09\n",
       "4  3905.23 2019-03-11  3966.38  3889.24  6.866693e+10  3953.74  1.012590e+10"
      ]
     },
     "execution_count": 3,
     "metadata": {},
     "output_type": "execute_result"
    }
   ],
   "source": [
    "df.head()"
   ]
  },
  {
   "cell_type": "code",
   "execution_count": 4,
   "metadata": {},
   "outputs": [],
   "source": [
    "bitcoincsv = df.to_csv (\"bitcoin.csv\", index = None, header=True)"
   ]
  },
  {
   "cell_type": "code",
   "execution_count": null,
   "metadata": {},
   "outputs": [],
   "source": []
  }
 ],
 "metadata": {
  "kernelspec": {
   "display_name": "Python 3",
   "language": "python",
   "name": "python3"
  },
  "language_info": {
   "codemirror_mode": {
    "name": "ipython",
    "version": 3
   },
   "file_extension": ".py",
   "mimetype": "text/x-python",
   "name": "python",
   "nbconvert_exporter": "python",
   "pygments_lexer": "ipython3",
   "version": "3.7.1"
  }
 },
 "nbformat": 4,
 "nbformat_minor": 2
}
