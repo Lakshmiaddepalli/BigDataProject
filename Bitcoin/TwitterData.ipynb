{
 "cells": [
  {
   "cell_type": "code",
   "execution_count": 2,
   "metadata": {},
   "outputs": [
    {
     "name": "stdout",
     "output_type": "stream",
     "text": [
      "Collecting selenium\n",
      "\u001b[?25l  Downloading https://files.pythonhosted.org/packages/80/d6/4294f0b4bce4de0abf13e17190289f9d0613b0a44e5dd6a7f5ca98459853/selenium-3.141.0-py2.py3-none-any.whl (904kB)\n",
      "\u001b[K    100% |████████████████████████████████| 911kB 6.9MB/s ta 0:00:01\n",
      "\u001b[?25hRequirement already satisfied: urllib3 in /Users/lakshmigauri/anaconda3/lib/python3.7/site-packages (from selenium) (1.24.1)\n",
      "Installing collected packages: selenium\n",
      "Successfully installed selenium-3.141.0\n"
     ]
    }
   ],
   "source": [
    "#!pip install selenium"
   ]
  },
  {
   "cell_type": "code",
   "execution_count": 51,
   "metadata": {},
   "outputs": [],
   "source": [
    "import time\n",
    "from selenium import webdriver\n",
    "from selenium.webdriver.common.keys import Keys\n",
    "import time\n",
    "from datetime import datetime, timedelta\n",
    "import textblob\n",
    "from textblob import TextBlob\n",
    "import pandas as pd \n",
    "import csv"
   ]
  },
  {
   "cell_type": "code",
   "execution_count": 58,
   "metadata": {
    "scrolled": true
   },
   "outputs": [
    {
     "name": "stdout",
     "output_type": "stream",
     "text": [
      "...................\n",
      "1\n",
      "...................\n",
      "2\n",
      "...................\n",
      "3\n",
      "...................\n",
      "4\n",
      "...................\n",
      "5\n"
     ]
    }
   ],
   "source": [
    "browser = webdriver.Chrome()\n",
    "base_url = u'https://twitter.com/search?q='\n",
    "query = u'%23bitcoinprice'\n",
    "url = base_url + query\n",
    "\n",
    "\n",
    "browser.get(url)\n",
    "time.sleep(1)\n",
    "data = []\n",
    "i  =  0\n",
    "body = browser.find_element_by_tag_name('body')\n",
    "\n",
    "\n",
    "for _ in range(5):\n",
    "    body.send_keys(Keys.PAGE_DOWN)\n",
    "    print(\"...................\")\n",
    "    i=i+1\n",
    "    print(i)\n",
    "    time.sleep(0.2)\n",
    "    streams = browser.find_elements_by_class_name('stream-item')\n",
    "    for stream in streams:\n",
    "        tweets  = ''\n",
    "        dt = ''\n",
    "        tweet = stream.find_elements_by_class_name('tweet-text')\n",
    "        for t in tweet:\n",
    "            tweets = t.text\n",
    "        timestamp = stream.find_elements_by_class_name('tweet-timestamp')\n",
    "        for s in timestamp:\n",
    "            dt = s.text\n",
    "        data.append({'date':str(dt),'tweet':str(tweets)})\n",
    "    \n",
    "df = pd.DataFrame(data)\n"
   ]
  },
  {
   "cell_type": "code",
   "execution_count": 59,
   "metadata": {},
   "outputs": [
    {
     "data": {
      "text/plain": [
       "date     105\n",
       "tweet    105\n",
       "dtype: int64"
      ]
     },
     "execution_count": 59,
     "metadata": {},
     "output_type": "execute_result"
    }
   ],
   "source": [
    "df.count()"
   ]
  },
  {
   "cell_type": "code",
   "execution_count": 60,
   "metadata": {},
   "outputs": [],
   "source": [
    "tweets = df.to_csv(\"tweetstest.csv\", index = None, header=True)"
   ]
  },
  {
   "cell_type": "code",
   "execution_count": null,
   "metadata": {},
   "outputs": [],
   "source": []
  }
 ],
 "metadata": {
  "kernelspec": {
   "display_name": "Python 3",
   "language": "python",
   "name": "python3"
  },
  "language_info": {
   "codemirror_mode": {
    "name": "ipython",
    "version": 3
   },
   "file_extension": ".py",
   "mimetype": "text/x-python",
   "name": "python",
   "nbconvert_exporter": "python",
   "pygments_lexer": "ipython3",
   "version": "3.7.1"
  }
 },
 "nbformat": 4,
 "nbformat_minor": 2
}
